{
 "cells": [
  {
   "cell_type": "markdown",
   "metadata": {
    "tags": [
     "notebook_only"
    ]
   },
   "source": [
    "# Getting Started\n",
    "\n",
    "On **Google Colab** select `Runtime -> Run all` from the menu above.\n",
    "\n",
    "Otherwise, press the re-run button &#x23e9; above."
   ]
  },
  {
   "cell_type": "code",
   "execution_count": 1,
   "metadata": {},
   "outputs": [],
   "source": [
    "%%capture\n",
    "try:\n",
    "  import google.colab\n",
    "  import os.path\n",
    "  if os.path.isdir('right-hand-rules'):\n",
    "    get_ipython().system('cd right-hand-rules; git pull')\n",
    "  else:\n",
    "    get_ipython().system('git clone https://github.com/tluchko/right-hand-rules')\n",
    "  get_ipython().system('pip install ipympl')\n",
    "  import importlib  \n",
    "  magneticrhr = importlib.import_module(\"right-hand-rules.magneticrhr\")\n",
    "except:\n",
    "  import magneticrhr\n",
    "  import magneticfieldrhr\n",
    "import ipywidgets\n",
    "import IPython.display"
   ]
  },
  {
   "cell_type": "code",
   "execution_count": null,
   "metadata": {},
   "outputs": [],
   "source": [
    "# create a VBox to hold all of the elements to display the particle tab\n",
    "force_particle_box = ipywidgets.widgets.VBox([\n",
    "        ipywidgets.widgets.HTML(\n",
    "            '<h1>Magnetic Force on a Moving Charged Particle</h1>'),\n",
    "            magneticrhr.MagneticRHR('particle')])"
   ]
  },
  {
   "cell_type": "code",
   "execution_count": null,
   "metadata": {},
   "outputs": [],
   "source": [
    "# create a VBox to hold all of the elements to display the wire tab\n",
    "force_wire_box = ipywidgets.widgets.VBox([\n",
    "        ipywidgets.widgets.HTML(\n",
    "            '<h1>Magnetic Force on a Current-Carrying Wire</h1>'),\n",
    "        magneticrhr.MagneticRHR('current')])"
   ]
  },
  {
   "cell_type": "code",
   "execution_count": null,
   "metadata": {},
   "outputs": [],
   "source": [
    "# create a VBox to hold all of the elements to display the wire tab\n",
    "field_wire_box = ipywidgets.widgets.VBox([\n",
    "        ipywidgets.widgets.HTML(\n",
    "            '<h1>Magnetic Field due to a Loop of Current-Carrying Wire</h1>'),\n",
    "        magneticfieldrhr.MagneticFieldRHR('loop')])"
   ]
  },
  {
   "cell_type": "code",
   "execution_count": null,
   "metadata": {},
   "outputs": [],
   "source": [
    "tab = ipywidgets.widgets.Tab(children=[\n",
    "    force_particle_box, \n",
    "    force_wire_box,\n",
    "    field_wire_box,\n",
    "])\n",
    "tab.set_title(0, 'Force on Particle')\n",
    "tab.set_title(1,'Force on Current')\n",
    "tab.set_title(2,'Loop of Current Field')\n",
    "display(tab)"
   ]
  }
 ],
 "metadata": {
  "celltoolbar": "Tags",
  "kernelspec": {
   "display_name": "Python 3 (ipykernel)",
   "language": "python",
   "name": "python3"
  },
  "language_info": {
   "codemirror_mode": {
    "name": "ipython",
    "version": 3
   },
   "file_extension": ".py",
   "mimetype": "text/x-python",
   "name": "python",
   "nbconvert_exporter": "python",
   "pygments_lexer": "ipython3",
   "version": "3.10.5"
  },
  "latex_envs": {
   "LaTeX_envs_menu_present": true,
   "autoclose": false,
   "autocomplete": true,
   "bibliofile": "biblio.bib",
   "cite_by": "apalike",
   "current_citInitial": 1,
   "eqLabelWithNumbers": true,
   "eqNumInitial": 1,
   "hotkeys": {
    "equation": "Ctrl-E",
    "itemize": "Ctrl-I"
   },
   "labels_anchors": false,
   "latex_user_defs": false,
   "report_style_numbering": true,
   "user_envs_cfg": false
  }
 },
 "nbformat": 4,
 "nbformat_minor": 4
}
