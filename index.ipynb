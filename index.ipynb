{
 "cells": [
  {
   "cell_type": "markdown",
   "metadata": {
    "tags": [
     "notebook_only"
    ]
   },
   "source": [
    "# Getting Started\n",
    "\n",
    "On **Google Colab** select `Runtime -> Run all` from the menu above.\n",
    "\n",
    "Otherwise, press the re-run button &#x23e9; above."
   ]
  },
  {
   "cell_type": "code",
   "execution_count": 1,
   "metadata": {},
   "outputs": [],
   "source": [
    "%%capture\n",
    "try:\n",
    "  import google.colab\n",
    "  import os.path\n",
    "  if os.path.isdir('right-hand-rules'):\n",
    "    get_ipython().system('cd right-hand-rules; git pull')\n",
    "  else:\n",
    "    get_ipython().system('git clone https://github.com/tluchko/right-hand-rules')\n",
    "  get_ipython().system('pip install ipympl')\n",
    "  import importlib  \n",
    "  magneticrhr = importlib.import_module(\"right-hand-rules.magneticrhr\")\n",
    "except:\n",
    "  import magneticrhr\n",
    "  import magneticfieldrhr\n",
    "import ipywidgets\n",
    "import IPython.display"
   ]
  },
  {
   "cell_type": "code",
   "execution_count": 2,
   "metadata": {},
   "outputs": [],
   "source": [
    "# create a VBox to hold all of the elements to display the particle tab\n",
    "force_particle_box = ipywidgets.widgets.VBox([\n",
    "        ipywidgets.widgets.HTML(\n",
    "            '<h1>Magnetic Force on a Moving Charged Particle</h1>'),\n",
    "            magneticrhr.MagneticRHR('particle')])"
   ]
  },
  {
   "cell_type": "code",
   "execution_count": 3,
   "metadata": {},
   "outputs": [
    {
     "name": "stderr",
     "output_type": "stream",
     "text": [
      "/Users/tluchko/projects/sandbox/right-hand-rules/magneticrhr.py:203: UserWarning: You passed a edgecolor/edgecolors ('C2') for an unfilled marker ('x').  Matplotlib is ignoring the edgecolor in favor of the facecolor.  This behavior may change in the future.\n",
      "  self.ax.scatter([0],[0], marker='x', s=200,  facecolors=color, edgecolors = color, label=label)\n"
     ]
    }
   ],
   "source": [
    "# create a VBox to hold all of the elements to display the wire tab\n",
    "force_wire_box = ipywidgets.widgets.VBox([\n",
    "        ipywidgets.widgets.HTML(\n",
    "            '<h1>Magnetic Force on a Current-Carrying Wire</h1>'),\n",
    "        magneticrhr.MagneticRHR('current')])"
   ]
  },
  {
   "cell_type": "code",
   "execution_count": 4,
   "metadata": {},
   "outputs": [
    {
     "ename": "NameError",
     "evalue": "name 'Layout' is not defined",
     "output_type": "error",
     "traceback": [
      "\u001b[0;31m---------------------------------------------------------------------------\u001b[0m",
      "\u001b[0;31mNameError\u001b[0m                                 Traceback (most recent call last)",
      "Input \u001b[0;32mIn [4]\u001b[0m, in \u001b[0;36m<cell line: 2>\u001b[0;34m()\u001b[0m\n\u001b[1;32m      1\u001b[0m \u001b[38;5;66;03m# create a VBox to hold all of the elements to display the wire tab\u001b[39;00m\n\u001b[1;32m      2\u001b[0m field_wire_box \u001b[38;5;241m=\u001b[39m ipywidgets\u001b[38;5;241m.\u001b[39mwidgets\u001b[38;5;241m.\u001b[39mVBox([\n\u001b[1;32m      3\u001b[0m         ipywidgets\u001b[38;5;241m.\u001b[39mwidgets\u001b[38;5;241m.\u001b[39mHTML(\n\u001b[1;32m      4\u001b[0m             \u001b[38;5;124m'\u001b[39m\u001b[38;5;124m<h1>Magnetic Field due to a Loop of Current-Carrying Wire</h1>\u001b[39m\u001b[38;5;124m'\u001b[39m),\n\u001b[0;32m----> 5\u001b[0m         \u001b[43mmagneticfieldrhr\u001b[49m\u001b[38;5;241;43m.\u001b[39;49m\u001b[43mMagneticFieldRHR\u001b[49m\u001b[43m(\u001b[49m\u001b[38;5;124;43m'\u001b[39;49m\u001b[38;5;124;43mloop\u001b[39;49m\u001b[38;5;124;43m'\u001b[39;49m\u001b[43m)\u001b[49m])\n",
      "File \u001b[0;32m~/projects/sandbox/right-hand-rules/magneticfieldrhr.py:74\u001b[0m, in \u001b[0;36mMagneticFieldRHR.__init__\u001b[0;34m(self, current_type)\u001b[0m\n\u001b[1;32m     69\u001b[0m \u001b[38;5;66;03m# self.unknown_widget_dropdown.on_trait_change(self.next)\u001b[39;00m\n\u001b[1;32m     70\u001b[0m \n\u001b[1;32m     71\u001b[0m \u001b[38;5;66;03m# Dropdown menu to select the values from. Added a dummy\u001b[39;00m\n\u001b[1;32m     72\u001b[0m \u001b[38;5;66;03m# answer as the starting point.\u001b[39;00m\n\u001b[1;32m     73\u001b[0m \u001b[38;5;28mself\u001b[39m\u001b[38;5;241m.\u001b[39minstruction_widget \u001b[38;5;241m=\u001b[39m widgets\u001b[38;5;241m.\u001b[39mHTML()\n\u001b[0;32m---> 74\u001b[0m \u001b[38;5;28mself\u001b[39m\u001b[38;5;241m.\u001b[39mdirection_widget \u001b[38;5;241m=\u001b[39m widgets\u001b[38;5;241m.\u001b[39mGridspecLayout(\u001b[38;5;241m3\u001b[39m,\u001b[38;5;241m2\u001b[39m, grid_gap \u001b[38;5;241m=\u001b[39m \u001b[38;5;124m'\u001b[39m\u001b[38;5;124m0px\u001b[39m\u001b[38;5;124m'\u001b[39m, layout \u001b[38;5;241m=\u001b[39m \u001b[43mLayout\u001b[49m(border\u001b[38;5;241m=\u001b[39m\u001b[38;5;124m'\u001b[39m\u001b[38;5;124msolid\u001b[39m\u001b[38;5;124m'\u001b[39m))\n\u001b[1;32m     75\u001b[0m \u001b[38;5;66;03m# widgets.Dropdown(\u001b[39;00m\n\u001b[1;32m     76\u001b[0m \u001b[38;5;66;03m#     options=[''],\u001b[39;00m\n\u001b[1;32m     77\u001b[0m \u001b[38;5;66;03m#     value=None,\u001b[39;00m\n\u001b[0;32m   (...)\u001b[0m\n\u001b[1;32m     82\u001b[0m \n\u001b[1;32m     83\u001b[0m \u001b[38;5;66;03m# display of the magnetic field plot\u001b[39;00m\n\u001b[1;32m     84\u001b[0m \u001b[38;5;28mself\u001b[39m\u001b[38;5;241m.\u001b[39mdisplay_widget \u001b[38;5;241m=\u001b[39m widgets\u001b[38;5;241m.\u001b[39mVBox()\u001b[38;5;66;03m#Label('TEST')\u001b[39;00m\n",
      "\u001b[0;31mNameError\u001b[0m: name 'Layout' is not defined"
     ]
    }
   ],
   "source": [
    "# create a VBox to hold all of the elements to display the wire tab\n",
    "field_wire_box = ipywidgets.widgets.VBox([\n",
    "        ipywidgets.widgets.HTML(\n",
    "            '<h1>Magnetic Field due to a Loop of Current-Carrying Wire</h1>'),\n",
    "        magneticfieldrhr.MagneticFieldRHR('loop')])"
   ]
  },
  {
   "cell_type": "code",
   "execution_count": null,
   "metadata": {},
   "outputs": [],
   "source": [
    "tab = ipywidgets.widgets.Tab(children=[\n",
    "    force_particle_box, \n",
    "    force_wire_box,\n",
    "    field_wire_box,\n",
    "])\n",
    "tab.set_title(0, 'Force on Particle')\n",
    "tab.set_title(1,'Force on Current')\n",
    "tab.set_title(2,'Loop of Current Field')\n",
    "display(tab)"
   ]
  }
 ],
 "metadata": {
  "celltoolbar": "Tags",
  "kernelspec": {
   "display_name": "Python 3 (ipykernel)",
   "language": "python",
   "name": "python3"
  },
  "language_info": {
   "codemirror_mode": {
    "name": "ipython",
    "version": 3
   },
   "file_extension": ".py",
   "mimetype": "text/x-python",
   "name": "python",
   "nbconvert_exporter": "python",
   "pygments_lexer": "ipython3",
   "version": "3.10.5"
  },
  "latex_envs": {
   "LaTeX_envs_menu_present": true,
   "autoclose": false,
   "autocomplete": true,
   "bibliofile": "biblio.bib",
   "cite_by": "apalike",
   "current_citInitial": 1,
   "eqLabelWithNumbers": true,
   "eqNumInitial": 1,
   "hotkeys": {
    "equation": "Ctrl-E",
    "itemize": "Ctrl-I"
   },
   "labels_anchors": false,
   "latex_user_defs": false,
   "report_style_numbering": true,
   "user_envs_cfg": false
  }
 },
 "nbformat": 4,
 "nbformat_minor": 4
}
